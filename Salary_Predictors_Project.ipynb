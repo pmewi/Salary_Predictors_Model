{
  "nbformat": 4,
  "nbformat_minor": 0,
  "metadata": {
    "colab": {
      "provenance": [],
      "authorship_tag": "ABX9TyP72oXk84pvRWYWPTxe4HpX",
      "include_colab_link": true
    },
    "kernelspec": {
      "name": "python3",
      "display_name": "Python 3"
    },
    "language_info": {
      "name": "python"
    }
  },
  "cells": [
    {
      "cell_type": "markdown",
      "metadata": {
        "id": "view-in-github",
        "colab_type": "text"
      },
      "source": [
        "<a href=\"https://colab.research.google.com/github/pmewi/Salary_Predictors_Model/blob/main/Salary_Predictors_Project.ipynb\" target=\"_parent\"><img src=\"https://colab.research.google.com/assets/colab-badge.svg\" alt=\"Open In Colab\"/></a>"
      ]
    },
    {
      "cell_type": "markdown",
      "source": [
        "##**Statistical Predictors of Player Salary**\n",
        "An NBA dataset found off Kaggle includes player contracts signed between 2010-2020. This dataset includes players who were active for the 2020/21 season and includes stats accumulated during season before signing contract."
      ],
      "metadata": {
        "id": "ky5FlEOHqd0J"
      }
    },
    {
      "cell_type": "code",
      "source": [
        "import pandas as pd"
      ],
      "metadata": {
        "id": "A5DbqMS3JbSF"
      },
      "execution_count": null,
      "outputs": []
    },
    {
      "cell_type": "code",
      "source": [
        "##Importing the data\n",
        "df = pd.read_csv(\"/content/nba_contracts_history.csv\")\n",
        "df.columns"
      ],
      "metadata": {
        "colab": {
          "base_uri": "https://localhost:8080/"
        },
        "id": "afktA5FcJdbx",
        "outputId": "1694cff0-8f01-4bc8-b03e-e6f39f76113a"
      },
      "execution_count": null,
      "outputs": [
        {
          "output_type": "execute_result",
          "data": {
            "text/plain": [
              "Index(['NAME', 'CONTRACT_START', 'CONTRACT_END', 'AVG_SALARY', 'AGE', 'GP',\n",
              "       'W', 'L', 'MIN', 'PTS', 'FGM', 'FGA', 'FG%', '3PM', '3PA', '3P%', 'FTM',\n",
              "       'FTA', 'FT%', 'OREB', 'DREB', 'REB', 'AST', 'TOV', 'STL', 'BLK', 'PF',\n",
              "       '+/-'],\n",
              "      dtype='object')"
            ]
          },
          "metadata": {},
          "execution_count": 21
        }
      ]
    },
    {
      "cell_type": "code",
      "source": [
        "##Quick check on what the data looks like\n",
        "df.head()"
      ],
      "metadata": {
        "colab": {
          "base_uri": "https://localhost:8080/",
          "height": 293
        },
        "id": "nMEtWTxcUHOd",
        "outputId": "e9685a6d-df93-4982-9603-8fe7258deb25"
      },
      "execution_count": null,
      "outputs": [
        {
          "output_type": "execute_result",
          "data": {
            "text/plain": [
              "              NAME  CONTRACT_START  CONTRACT_END  AVG_SALARY   AGE    GP  \\\n",
              "0  Wesley Matthews            2019          2020   2564753.0  32.0  69.0   \n",
              "1      Brook Lopez            2015          2017  21165675.0  27.0  72.0   \n",
              "2   DeAndre Jordan            2011          2014  10759763.5  22.0  80.0   \n",
              "3  Markieff Morris            2015          2018   8143323.5  25.0  82.0   \n",
              "4    Dwight Howard            2018          2019  13410739.0  32.0  81.0   \n",
              "\n",
              "      W     L     MIN     PTS  ...   FT%   OREB   DREB     REB    AST    TOV  \\\n",
              "0  27.0  42.0  2091.0   840.0  ...  81.0   32.0  138.0   170.0  160.0   91.0   \n",
              "1  34.0  38.0  2100.0  1236.0  ...  81.4  214.0  321.0   535.0   50.0  104.0   \n",
              "2  31.0  49.0  2047.0   566.0  ...  45.2  207.0  368.0   575.0   42.0  101.0   \n",
              "3  39.0  43.0  2581.0  1258.0  ...  76.3  110.0  396.0   506.0  192.0  170.0   \n",
              "4  35.0  46.0  2463.0  1347.0  ...  57.4  255.0  757.0  1012.0  105.0  208.0   \n",
              "\n",
              "     STL    BLK     PF    +/-  \n",
              "0   54.0   17.0  160.0  -90.0  \n",
              "1   43.0  126.0  206.0 -104.0  \n",
              "2   41.0  142.0  255.0 -100.0  \n",
              "3  101.0   39.0  245.0  105.0  \n",
              "4   48.0  131.0  249.0   89.0  \n",
              "\n",
              "[5 rows x 28 columns]"
            ],
            "text/html": [
              "\n",
              "  <div id=\"df-defa3d51-d336-42c5-b1cf-9a5518188a4e\">\n",
              "    <div class=\"colab-df-container\">\n",
              "      <div>\n",
              "<style scoped>\n",
              "    .dataframe tbody tr th:only-of-type {\n",
              "        vertical-align: middle;\n",
              "    }\n",
              "\n",
              "    .dataframe tbody tr th {\n",
              "        vertical-align: top;\n",
              "    }\n",
              "\n",
              "    .dataframe thead th {\n",
              "        text-align: right;\n",
              "    }\n",
              "</style>\n",
              "<table border=\"1\" class=\"dataframe\">\n",
              "  <thead>\n",
              "    <tr style=\"text-align: right;\">\n",
              "      <th></th>\n",
              "      <th>NAME</th>\n",
              "      <th>CONTRACT_START</th>\n",
              "      <th>CONTRACT_END</th>\n",
              "      <th>AVG_SALARY</th>\n",
              "      <th>AGE</th>\n",
              "      <th>GP</th>\n",
              "      <th>W</th>\n",
              "      <th>L</th>\n",
              "      <th>MIN</th>\n",
              "      <th>PTS</th>\n",
              "      <th>...</th>\n",
              "      <th>FT%</th>\n",
              "      <th>OREB</th>\n",
              "      <th>DREB</th>\n",
              "      <th>REB</th>\n",
              "      <th>AST</th>\n",
              "      <th>TOV</th>\n",
              "      <th>STL</th>\n",
              "      <th>BLK</th>\n",
              "      <th>PF</th>\n",
              "      <th>+/-</th>\n",
              "    </tr>\n",
              "  </thead>\n",
              "  <tbody>\n",
              "    <tr>\n",
              "      <th>0</th>\n",
              "      <td>Wesley Matthews</td>\n",
              "      <td>2019</td>\n",
              "      <td>2020</td>\n",
              "      <td>2564753.0</td>\n",
              "      <td>32.0</td>\n",
              "      <td>69.0</td>\n",
              "      <td>27.0</td>\n",
              "      <td>42.0</td>\n",
              "      <td>2091.0</td>\n",
              "      <td>840.0</td>\n",
              "      <td>...</td>\n",
              "      <td>81.0</td>\n",
              "      <td>32.0</td>\n",
              "      <td>138.0</td>\n",
              "      <td>170.0</td>\n",
              "      <td>160.0</td>\n",
              "      <td>91.0</td>\n",
              "      <td>54.0</td>\n",
              "      <td>17.0</td>\n",
              "      <td>160.0</td>\n",
              "      <td>-90.0</td>\n",
              "    </tr>\n",
              "    <tr>\n",
              "      <th>1</th>\n",
              "      <td>Brook Lopez</td>\n",
              "      <td>2015</td>\n",
              "      <td>2017</td>\n",
              "      <td>21165675.0</td>\n",
              "      <td>27.0</td>\n",
              "      <td>72.0</td>\n",
              "      <td>34.0</td>\n",
              "      <td>38.0</td>\n",
              "      <td>2100.0</td>\n",
              "      <td>1236.0</td>\n",
              "      <td>...</td>\n",
              "      <td>81.4</td>\n",
              "      <td>214.0</td>\n",
              "      <td>321.0</td>\n",
              "      <td>535.0</td>\n",
              "      <td>50.0</td>\n",
              "      <td>104.0</td>\n",
              "      <td>43.0</td>\n",
              "      <td>126.0</td>\n",
              "      <td>206.0</td>\n",
              "      <td>-104.0</td>\n",
              "    </tr>\n",
              "    <tr>\n",
              "      <th>2</th>\n",
              "      <td>DeAndre Jordan</td>\n",
              "      <td>2011</td>\n",
              "      <td>2014</td>\n",
              "      <td>10759763.5</td>\n",
              "      <td>22.0</td>\n",
              "      <td>80.0</td>\n",
              "      <td>31.0</td>\n",
              "      <td>49.0</td>\n",
              "      <td>2047.0</td>\n",
              "      <td>566.0</td>\n",
              "      <td>...</td>\n",
              "      <td>45.2</td>\n",
              "      <td>207.0</td>\n",
              "      <td>368.0</td>\n",
              "      <td>575.0</td>\n",
              "      <td>42.0</td>\n",
              "      <td>101.0</td>\n",
              "      <td>41.0</td>\n",
              "      <td>142.0</td>\n",
              "      <td>255.0</td>\n",
              "      <td>-100.0</td>\n",
              "    </tr>\n",
              "    <tr>\n",
              "      <th>3</th>\n",
              "      <td>Markieff Morris</td>\n",
              "      <td>2015</td>\n",
              "      <td>2018</td>\n",
              "      <td>8143323.5</td>\n",
              "      <td>25.0</td>\n",
              "      <td>82.0</td>\n",
              "      <td>39.0</td>\n",
              "      <td>43.0</td>\n",
              "      <td>2581.0</td>\n",
              "      <td>1258.0</td>\n",
              "      <td>...</td>\n",
              "      <td>76.3</td>\n",
              "      <td>110.0</td>\n",
              "      <td>396.0</td>\n",
              "      <td>506.0</td>\n",
              "      <td>192.0</td>\n",
              "      <td>170.0</td>\n",
              "      <td>101.0</td>\n",
              "      <td>39.0</td>\n",
              "      <td>245.0</td>\n",
              "      <td>105.0</td>\n",
              "    </tr>\n",
              "    <tr>\n",
              "      <th>4</th>\n",
              "      <td>Dwight Howard</td>\n",
              "      <td>2018</td>\n",
              "      <td>2019</td>\n",
              "      <td>13410739.0</td>\n",
              "      <td>32.0</td>\n",
              "      <td>81.0</td>\n",
              "      <td>35.0</td>\n",
              "      <td>46.0</td>\n",
              "      <td>2463.0</td>\n",
              "      <td>1347.0</td>\n",
              "      <td>...</td>\n",
              "      <td>57.4</td>\n",
              "      <td>255.0</td>\n",
              "      <td>757.0</td>\n",
              "      <td>1012.0</td>\n",
              "      <td>105.0</td>\n",
              "      <td>208.0</td>\n",
              "      <td>48.0</td>\n",
              "      <td>131.0</td>\n",
              "      <td>249.0</td>\n",
              "      <td>89.0</td>\n",
              "    </tr>\n",
              "  </tbody>\n",
              "</table>\n",
              "<p>5 rows × 28 columns</p>\n",
              "</div>\n",
              "      <button class=\"colab-df-convert\" onclick=\"convertToInteractive('df-defa3d51-d336-42c5-b1cf-9a5518188a4e')\"\n",
              "              title=\"Convert this dataframe to an interactive table.\"\n",
              "              style=\"display:none;\">\n",
              "        \n",
              "  <svg xmlns=\"http://www.w3.org/2000/svg\" height=\"24px\"viewBox=\"0 0 24 24\"\n",
              "       width=\"24px\">\n",
              "    <path d=\"M0 0h24v24H0V0z\" fill=\"none\"/>\n",
              "    <path d=\"M18.56 5.44l.94 2.06.94-2.06 2.06-.94-2.06-.94-.94-2.06-.94 2.06-2.06.94zm-11 1L8.5 8.5l.94-2.06 2.06-.94-2.06-.94L8.5 2.5l-.94 2.06-2.06.94zm10 10l.94 2.06.94-2.06 2.06-.94-2.06-.94-.94-2.06-.94 2.06-2.06.94z\"/><path d=\"M17.41 7.96l-1.37-1.37c-.4-.4-.92-.59-1.43-.59-.52 0-1.04.2-1.43.59L10.3 9.45l-7.72 7.72c-.78.78-.78 2.05 0 2.83L4 21.41c.39.39.9.59 1.41.59.51 0 1.02-.2 1.41-.59l7.78-7.78 2.81-2.81c.8-.78.8-2.07 0-2.86zM5.41 20L4 18.59l7.72-7.72 1.47 1.35L5.41 20z\"/>\n",
              "  </svg>\n",
              "      </button>\n",
              "      \n",
              "  <style>\n",
              "    .colab-df-container {\n",
              "      display:flex;\n",
              "      flex-wrap:wrap;\n",
              "      gap: 12px;\n",
              "    }\n",
              "\n",
              "    .colab-df-convert {\n",
              "      background-color: #E8F0FE;\n",
              "      border: none;\n",
              "      border-radius: 50%;\n",
              "      cursor: pointer;\n",
              "      display: none;\n",
              "      fill: #1967D2;\n",
              "      height: 32px;\n",
              "      padding: 0 0 0 0;\n",
              "      width: 32px;\n",
              "    }\n",
              "\n",
              "    .colab-df-convert:hover {\n",
              "      background-color: #E2EBFA;\n",
              "      box-shadow: 0px 1px 2px rgba(60, 64, 67, 0.3), 0px 1px 3px 1px rgba(60, 64, 67, 0.15);\n",
              "      fill: #174EA6;\n",
              "    }\n",
              "\n",
              "    [theme=dark] .colab-df-convert {\n",
              "      background-color: #3B4455;\n",
              "      fill: #D2E3FC;\n",
              "    }\n",
              "\n",
              "    [theme=dark] .colab-df-convert:hover {\n",
              "      background-color: #434B5C;\n",
              "      box-shadow: 0px 1px 3px 1px rgba(0, 0, 0, 0.15);\n",
              "      filter: drop-shadow(0px 1px 2px rgba(0, 0, 0, 0.3));\n",
              "      fill: #FFFFFF;\n",
              "    }\n",
              "  </style>\n",
              "\n",
              "      <script>\n",
              "        const buttonEl =\n",
              "          document.querySelector('#df-defa3d51-d336-42c5-b1cf-9a5518188a4e button.colab-df-convert');\n",
              "        buttonEl.style.display =\n",
              "          google.colab.kernel.accessAllowed ? 'block' : 'none';\n",
              "\n",
              "        async function convertToInteractive(key) {\n",
              "          const element = document.querySelector('#df-defa3d51-d336-42c5-b1cf-9a5518188a4e');\n",
              "          const dataTable =\n",
              "            await google.colab.kernel.invokeFunction('convertToInteractive',\n",
              "                                                     [key], {});\n",
              "          if (!dataTable) return;\n",
              "\n",
              "          const docLinkHtml = 'Like what you see? Visit the ' +\n",
              "            '<a target=\"_blank\" href=https://colab.research.google.com/notebooks/data_table.ipynb>data table notebook</a>'\n",
              "            + ' to learn more about interactive tables.';\n",
              "          element.innerHTML = '';\n",
              "          dataTable['output_type'] = 'display_data';\n",
              "          await google.colab.output.renderOutput(dataTable, element);\n",
              "          const docLink = document.createElement('div');\n",
              "          docLink.innerHTML = docLinkHtml;\n",
              "          element.appendChild(docLink);\n",
              "        }\n",
              "      </script>\n",
              "    </div>\n",
              "  </div>\n",
              "  "
            ]
          },
          "metadata": {},
          "execution_count": 44
        },
        {
          "output_type": "stream",
          "name": "stdout",
          "text": [
            "Warning: Total number of columns (28) exceeds max_columns (20) limiting to first (20) columns.\n"
          ]
        }
      ]
    },
    {
      "cell_type": "code",
      "source": [
        "##Importing packages that will be necessary for proper analysis\n",
        "import pandas as pd\n",
        "from sklearn.model_selection import train_test_split\n",
        "from sklearn.linear_model import LinearRegression\n",
        "from sklearn.metrics import mean_squared_error, r2_score"
      ],
      "metadata": {
        "id": "-mWx6vmcLMt5"
      },
      "execution_count": null,
      "outputs": []
    },
    {
      "cell_type": "code",
      "source": [
        "##Checking data for missing/NaN values\n",
        "missing_values = df.isnull().sum()\n",
        "print(missing_values)"
      ],
      "metadata": {
        "colab": {
          "base_uri": "https://localhost:8080/"
        },
        "id": "K2rcDbWZNfAg",
        "outputId": "05052b00-e8bb-42b4-a218-0609064adee6"
      },
      "execution_count": null,
      "outputs": [
        {
          "output_type": "stream",
          "name": "stdout",
          "text": [
            "NAME              0\n",
            "CONTRACT_START    0\n",
            "CONTRACT_END      0\n",
            "AVG_SALARY        0\n",
            "AGE               0\n",
            "GP                0\n",
            "W                 0\n",
            "L                 0\n",
            "MIN               0\n",
            "PTS               0\n",
            "FGM               0\n",
            "FGA               0\n",
            "FG%               0\n",
            "3PM               0\n",
            "3PA               0\n",
            "3P%               0\n",
            "FTM               0\n",
            "FTA               0\n",
            "FT%               0\n",
            "OREB              0\n",
            "DREB              0\n",
            "REB               0\n",
            "AST               0\n",
            "TOV               0\n",
            "STL               0\n",
            "BLK               0\n",
            "PF                0\n",
            "+/-               0\n",
            "dtype: int64\n"
          ]
        }
      ]
    },
    {
      "cell_type": "code",
      "source": [
        "nan_values = df.isna().sum()\n",
        "print(nan_values)"
      ],
      "metadata": {
        "colab": {
          "base_uri": "https://localhost:8080/"
        },
        "id": "QDfkxiEAN9oa",
        "outputId": "0c29ece3-984f-4a1a-fc23-13bc3cb7c617"
      },
      "execution_count": null,
      "outputs": [
        {
          "output_type": "stream",
          "name": "stdout",
          "text": [
            "NAME              0\n",
            "CONTRACT_START    0\n",
            "CONTRACT_END      0\n",
            "AVG_SALARY        0\n",
            "AGE               0\n",
            "GP                0\n",
            "W                 0\n",
            "L                 0\n",
            "MIN               0\n",
            "PTS               0\n",
            "FGM               0\n",
            "FGA               0\n",
            "FG%               0\n",
            "3PM               0\n",
            "3PA               0\n",
            "3P%               0\n",
            "FTM               0\n",
            "FTA               0\n",
            "FT%               0\n",
            "OREB              0\n",
            "DREB              0\n",
            "REB               0\n",
            "AST               0\n",
            "TOV               0\n",
            "STL               0\n",
            "BLK               0\n",
            "PF                0\n",
            "+/-               0\n",
            "dtype: int64\n"
          ]
        }
      ]
    },
    {
      "cell_type": "markdown",
      "source": [
        "Going forward, I would like to see if critical NBA stats are good predictors of a player's salary. To start, I will select PTS, FG%, 3P%, FT%, REB, BLK and +/-"
      ],
      "metadata": {
        "id": "CnB9g9fmRYuk"
      }
    },
    {
      "cell_type": "code",
      "source": [
        "##Before making the model, let us place each chosen IV on a scatter plot to see if there are any trends with AVG SALARY\n",
        "import matplotlib.pyplot as plt\n",
        "plt.scatter(df[\"PTS\"],df[\"AVG_SALARY\"])\n",
        "plt.show()"
      ],
      "metadata": {
        "colab": {
          "base_uri": "https://localhost:8080/",
          "height": 276
        },
        "id": "agPAPvtwQ7Q9",
        "outputId": "2ded9cca-2e49-4e72-e712-c06f7e904640"
      },
      "execution_count": null,
      "outputs": [
        {
          "output_type": "display_data",
          "data": {
            "text/plain": [
              "<Figure size 432x288 with 1 Axes>"
            ],
            "image/png": "[encoded data removed]"
          },
          "metadata": {
            "needs_background": "light"
          }
        }
      ]
    },
    {
      "cell_type": "markdown",
      "source": [
        "Seems already like PTS is a good indicator of player salary."
      ],
      "metadata": {
        "id": "ftfQfzZXR-KH"
      }
    },
    {
      "cell_type": "code",
      "source": [
        "plt.scatter(df[\"FG%\"],df[\"AVG_SALARY\"])\n",
        "plt.show()"
      ],
      "metadata": {
        "colab": {
          "base_uri": "https://localhost:8080/",
          "height": 276
        },
        "id": "yABH1-YwSCKH",
        "outputId": "4be70bb0-7316-41f5-a55b-c033a13e3b63"
      },
      "execution_count": null,
      "outputs": [
        {
          "output_type": "display_data",
          "data": {
            "text/plain": [
              "<Figure size 432x288 with 1 Axes>"
            ],
            "image/png": "[encoded data removed]"
          },
          "metadata": {
            "needs_background": "light"
          }
        }
      ]
    },
    {
      "cell_type": "markdown",
      "source": [
        "Seems the FG% doesn't fluctuate much regardless of salary."
      ],
      "metadata": {
        "id": "RVCT-az7SL0m"
      }
    },
    {
      "cell_type": "code",
      "source": [
        "plt.scatter(df[\"3P%\"],df[\"AVG_SALARY\"])\n",
        "plt.show()"
      ],
      "metadata": {
        "colab": {
          "base_uri": "https://localhost:8080/",
          "height": 276
        },
        "id": "6PxkdQ1cSacR",
        "outputId": "6de436bd-a744-427d-bdab-ff9ef9febdc1"
      },
      "execution_count": null,
      "outputs": [
        {
          "output_type": "display_data",
          "data": {
            "text/plain": [
              "<Figure size 432x288 with 1 Axes>"
            ],
            "image/png": "[encoded data removed]"
          },
          "metadata": {
            "needs_background": "light"
          }
        }
      ]
    },
    {
      "cell_type": "markdown",
      "source": [
        "Seems like there are many active players who attempt very little/no 3 pointers. Slight correlation with salary, but not seemingly a good indicator off the bat."
      ],
      "metadata": {
        "id": "bUzpE83vSrx5"
      }
    },
    {
      "cell_type": "code",
      "source": [
        "plt.scatter(df[\"FT%\"],df[\"AVG_SALARY\"])\n",
        "plt.show()"
      ],
      "metadata": {
        "colab": {
          "base_uri": "https://localhost:8080/",
          "height": 276
        },
        "id": "b-Qg6wCjS9my",
        "outputId": "6ca506e1-36d2-4399-c38e-c86215ce75dc"
      },
      "execution_count": null,
      "outputs": [
        {
          "output_type": "display_data",
          "data": {
            "text/plain": [
              "<Figure size 432x288 with 1 Axes>"
            ],
            "image/png": "[encoded data removed]"
          },
          "metadata": {
            "needs_background": "light"
          }
        }
      ]
    },
    {
      "cell_type": "markdown",
      "source": [
        "FT%, surprisingly, seems to fluctuate a bit more than FG% but doesn't seem to have a big impact on salary, either."
      ],
      "metadata": {
        "id": "nksVW6FoTJhy"
      }
    },
    {
      "cell_type": "code",
      "source": [
        "plt.scatter(df[\"REB\"],df[\"AVG_SALARY\"])\n",
        "plt.show()"
      ],
      "metadata": {
        "colab": {
          "base_uri": "https://localhost:8080/",
          "height": 276
        },
        "id": "3cyJR7S4TQC-",
        "outputId": "bacaf757-9d96-47ff-f1a8-e7a547ec6836"
      },
      "execution_count": null,
      "outputs": [
        {
          "output_type": "display_data",
          "data": {
            "text/plain": [
              "<Figure size 432x288 with 1 Axes>"
            ],
            "image/png": "[encoded data removed]"
          },
          "metadata": {
            "needs_background": "light"
          }
        }
      ]
    },
    {
      "cell_type": "markdown",
      "source": [
        "Number of rebounds seem to have a positive correlation with player salary."
      ],
      "metadata": {
        "id": "bB8Vm7hwTUs5"
      }
    },
    {
      "cell_type": "code",
      "source": [
        "plt.scatter(df[\"BLK\"],df[\"AVG_SALARY\"])\n",
        "plt.show()"
      ],
      "metadata": {
        "colab": {
          "base_uri": "https://localhost:8080/",
          "height": 276
        },
        "id": "SJtCk4fnTaiU",
        "outputId": "c1c14416-3c4e-4885-fe4b-dc2d042abc26"
      },
      "execution_count": null,
      "outputs": [
        {
          "output_type": "display_data",
          "data": {
            "text/plain": [
              "<Figure size 432x288 with 1 Axes>"
            ],
            "image/png": "[encoded data removed]"
          },
          "metadata": {
            "needs_background": "light"
          }
        }
      ]
    },
    {
      "cell_type": "markdown",
      "source": [
        "Blocks seem to also have a positive correlation with salary."
      ],
      "metadata": {
        "id": "d9v201JKTw9d"
      }
    },
    {
      "cell_type": "code",
      "source": [
        "plt.scatter(df[\"+/-\"],df[\"AVG_SALARY\"])\n",
        "plt.show()"
      ],
      "metadata": {
        "colab": {
          "base_uri": "https://localhost:8080/",
          "height": 276
        },
        "id": "H77W1-10T3BO",
        "outputId": "edebbd29-ebe8-4254-dc1b-03d0cd68137a"
      },
      "execution_count": null,
      "outputs": [
        {
          "output_type": "display_data",
          "data": {
            "text/plain": [
              "<Figure size 432x288 with 1 Axes>"
            ],
            "image/png": "[encoded data removed]"
          },
          "metadata": {
            "needs_background": "light"
          }
        }
      ]
    },
    {
      "cell_type": "markdown",
      "source": [
        "Let us now make an initial model using all IV's originallly selected."
      ],
      "metadata": {
        "id": "7lUhGPdLXLgY"
      }
    },
    {
      "cell_type": "code",
      "source": [
        "##Selecting factors to determine player salary\n",
        "X = df[[\"PTS\", \"FG%\", \"3P%\", \"FT%\", \"REB\", \"BLK\", \"+/-\"]]\n",
        "y = df[\"AVG_SALARY\"]"
      ],
      "metadata": {
        "id": "j5HdwbszLVZm"
      },
      "execution_count": null,
      "outputs": []
    },
    {
      "cell_type": "code",
      "source": [
        "##Splitting the data into training and testing\n",
        "X_train, X_test, y_train, y_test = train_test_split(X, y, test_size=0.2, random_state=99)"
      ],
      "metadata": {
        "id": "sj93208qLjhK"
      },
      "execution_count": null,
      "outputs": []
    },
    {
      "cell_type": "code",
      "source": [
        "##Building the first initial model to predict player salary\n",
        "model2 = LinearRegression()\n",
        "model2.fit(X_train, y_train)"
      ],
      "metadata": {
        "id": "JRV2eoRDLsl9"
      },
      "execution_count": null,
      "outputs": []
    },
    {
      "cell_type": "code",
      "source": [
        "y_pred2 = model2.predict(X_test)\n",
        "r2 = r2_score(y_test, y_pred2)\n",
        "print(\"R2 score: \", r2)"
      ],
      "metadata": {
        "colab": {
          "base_uri": "https://localhost:8080/"
        },
        "id": "uVjWgEtVL41Q",
        "outputId": "91244e96-386d-40fd-8e75-b88ce570fbf6"
      },
      "execution_count": null,
      "outputs": [
        {
          "output_type": "stream",
          "name": "stdout",
          "text": [
            "R2 score:  0.6303149396205793\n"
          ]
        }
      ]
    },
    {
      "cell_type": "markdown",
      "source": [
        "63% of the DV variance can be explained by the model. Not too bad."
      ],
      "metadata": {
        "id": "DQUHJbIRsEr-"
      }
    },
    {
      "cell_type": "code",
      "source": [
        "##Quick table comparing Actual AVG SALARY to Predicted Salary\n",
        "results = pd.DataFrame({\"Actual Salary\": y_test, \"Predicted Salary\": y_pred2})\n",
        "print(results)"
      ],
      "metadata": {
        "colab": {
          "base_uri": "https://localhost:8080/"
        },
        "id": "iuduCYbXPOG3",
        "outputId": "65257b23-162b-46fb-fe8b-380c0c7c6611"
      },
      "execution_count": null,
      "outputs": [
        {
          "output_type": "stream",
          "name": "stdout",
          "text": [
            "     Actual Salary  Predicted Salary\n",
            "92    1.100000e+07      1.501023e+07\n",
            "118   1.700000e+07      1.102220e+07\n",
            "173   1.322170e+07      7.688555e+06\n",
            "65    1.302356e+06      2.131012e+06\n",
            "190   1.727500e+07      1.435266e+07\n",
            "49    5.718000e+06      7.483464e+06\n",
            "80    5.933334e+06      7.481343e+06\n",
            "66    4.140721e+06      5.868478e+06\n",
            "134   9.814860e+05      3.964639e+06\n",
            "139   1.459139e+07      3.526238e+06\n",
            "36    1.628404e+07      1.987720e+07\n",
            "46    1.750000e+07      1.180099e+07\n",
            "166   2.963205e+06      3.335742e+06\n",
            "40    3.533333e+06      5.731023e+06\n",
            "178   4.500000e+06      7.951184e+06\n",
            "194   1.469367e+07      3.057793e+06\n",
            "24    8.000000e+06      7.271390e+06\n",
            "152   3.212458e+07      2.731134e+07\n",
            "9     8.000000e+06      1.479157e+07\n",
            "127   8.000000e+06      1.414244e+07\n",
            "120   1.503704e+06      3.551430e+06\n",
            "43    2.013214e+07      2.313060e+07\n",
            "81    1.747321e+07      2.077293e+07\n",
            "50    2.101801e+07      2.320667e+07\n",
            "63    5.000000e+06      5.387735e+06\n",
            "51    2.780080e+07      1.854612e+07\n",
            "44    8.673915e+05      3.945562e+05\n",
            "84    5.330000e+06      5.019058e+06\n",
            "98    1.918572e+06      3.490130e+06\n",
            "143   7.369732e+06      1.580233e+07\n",
            "82    1.900000e+07      1.528796e+07\n",
            "14    5.708251e+06      6.758543e+06\n",
            "85    8.000000e+06      5.750559e+06\n",
            "183   1.111019e+07      1.005252e+07\n",
            "106   1.473048e+06      3.451184e+06\n",
            "97    2.177483e+06      1.229517e+07\n",
            "72    1.820148e+06      3.426372e+06\n",
            "126   2.000000e+06      2.608188e+06\n",
            "16    1.682025e+06      7.261297e+06\n",
            "53    9.320750e+06      9.846255e+06\n"
          ]
        }
      ]
    },
    {
      "cell_type": "code",
      "source": [
        "##Let's quickly visualize the regression line against AVG and Predicted Salaries\n",
        "plt.scatter(y_test, y_pred2)\n",
        "plt.xlabel(\"AVG_SALARY\")\n",
        "plt.ylabel(\"Predicted Salary\")\n",
        "plt.title(\"Actual vs Predicted Player Salaries\")\n",
        "plt.plot(y_test, y_test, color=\"red\")\n",
        "plt.show()"
      ],
      "metadata": {
        "colab": {
          "base_uri": "https://localhost:8080/",
          "height": 296
        },
        "id": "cAn_h8csbP3b",
        "outputId": "1fa125a6-b4ca-4fe7-eddb-af004ed7fb8f"
      },
      "execution_count": null,
      "outputs": [
        {
          "output_type": "display_data",
          "data": {
            "text/plain": [
              "<Figure size 432x288 with 1 Axes>"
            ],
            "image/png": "[encoded data removed]"
          },
          "metadata": {
            "needs_background": "light"
          }
        }
      ]
    },
    {
      "cell_type": "markdown",
      "source": [
        "Let us create a Random Forest Regression to determine which IV's hold the most weight in terms of determining salary"
      ],
      "metadata": {
        "id": "HPSBgIBRcerr"
      }
    },
    {
      "cell_type": "code",
      "source": [
        "from sklearn.ensemble import RandomForestRegressor"
      ],
      "metadata": {
        "id": "EGCRxmLocnme"
      },
      "execution_count": null,
      "outputs": []
    },
    {
      "cell_type": "code",
      "source": [
        "rf = RandomForestRegressor(n_estimators=500, random_state=99)\n",
        "rf.fit(X_train, y_train)\n",
        "y_pred2 = rf.predict(X_test)\n",
        "importances = rf.feature_importances_\n",
        "feature_importances = pd.DataFrame({\"feature\": X.columns, \"importance\": importances})\n",
        "feature_importances = feature_importances.sort_values(\"importance\", ascending=False)\n",
        "print(feature_importances)"
      ],
      "metadata": {
        "colab": {
          "base_uri": "https://localhost:8080/"
        },
        "id": "u9ImScWUeudb",
        "outputId": "369dd19b-d97a-4e06-d497-26a7263c673f"
      },
      "execution_count": null,
      "outputs": [
        {
          "output_type": "stream",
          "name": "stdout",
          "text": [
            "  feature  importance\n",
            "0     PTS    0.643721\n",
            "6     +/-    0.128598\n",
            "4     REB    0.075303\n",
            "5     BLK    0.054182\n",
            "3     FT%    0.035461\n",
            "1     FG%    0.033447\n",
            "2     3P%    0.029289\n"
          ]
        }
      ]
    },
    {
      "cell_type": "markdown",
      "source": [
        "Using a random forest regression, we can see PTS and +/- were the greeatest predictors of salary. Let's make another linear regression using the top 4 predictors."
      ],
      "metadata": {
        "id": "KqojNz9zhbuF"
      }
    },
    {
      "cell_type": "code",
      "source": [
        "##Selecting new factors to determine player salary\n",
        "Z = df[[\"PTS\", \"+/-\",\"REB\", \"BLK\"]]\n",
        "w = df[\"AVG_SALARY\"]"
      ],
      "metadata": {
        "id": "ZEIV7iCIh-9s"
      },
      "execution_count": null,
      "outputs": []
    },
    {
      "cell_type": "code",
      "source": [
        "##Split the new data into training and testing\n",
        "Z_train, Z_test, w_train, w_test = train_test_split(Z, w, test_size=0.2, random_state=99)"
      ],
      "metadata": {
        "id": "Ltp1GVFTiVYZ"
      },
      "execution_count": null,
      "outputs": []
    },
    {
      "cell_type": "code",
      "source": [
        "##Building the new model to predict player salary\n",
        "model3 = LinearRegression()\n",
        "model3.fit(Z_train, w_train)"
      ],
      "metadata": {
        "id": "HYc_Ienwikal"
      },
      "execution_count": null,
      "outputs": []
    },
    {
      "cell_type": "code",
      "source": [
        "w_pred = model3.predict(Z_test)\n",
        "r2_2 = r2_score(w_test, w_pred)\n",
        "print(\"R2 score: \", r2_2)"
      ],
      "metadata": {
        "colab": {
          "base_uri": "https://localhost:8080/"
        },
        "id": "-5wZ2yW2ixfT",
        "outputId": "a6fd3382-a96c-450e-94d9-8ab25c291217"
      },
      "execution_count": null,
      "outputs": [
        {
          "output_type": "stream",
          "name": "stdout",
          "text": [
            "R2 score:  0.6010250738502783\n"
          ]
        }
      ]
    },
    {
      "cell_type": "markdown",
      "source": [
        "Dropped down only to 60% which indicates IV's removed did indeed have little effect on DV. Minimized value will always occur when reducing predictor variables."
      ],
      "metadata": {
        "id": "CmCtFYFJsk5G"
      }
    },
    {
      "cell_type": "code",
      "source": [
        "##Table comparing Actual AVG SALARY to Predicted Salary\n",
        "results2 = pd.DataFrame({'NAME': Z_test.index, 'Actual Salary': w_test, 'Predicted Salary': w_pred})\n",
        "results2[\"Difference\"] = results2[\"Actual Salary\"] - results2[\"Predicted Salary\"]\n",
        "results2 = results2.sort_values(by='Difference', ascending=False)\n",
        "print(results2)"
      ],
      "metadata": {
        "colab": {
          "base_uri": "https://localhost:8080/"
        },
        "id": "D2ROnUofjXPs",
        "outputId": "4fe75d4d-4931-49a8-cc46-fefc1bb8a2f4"
      },
      "execution_count": null,
      "outputs": [
        {
          "output_type": "stream",
          "name": "stdout",
          "text": [
            "     NAME  Actual Salary  Predicted Salary    Difference\n",
            "194   194   1.469367e+07      1.842936e+06  1.285073e+07\n",
            "139   139   1.459139e+07      3.194319e+06  1.139707e+07\n",
            "51     51   2.780080e+07      1.890036e+07  8.900439e+06\n",
            "118   118   1.700000e+07      1.046696e+07  6.533043e+06\n",
            "46     46   1.750000e+07      1.194309e+07  5.556909e+06\n",
            "173   173   1.322170e+07      7.681503e+06  5.540195e+06\n",
            "152   152   3.212458e+07      2.704798e+07  5.076602e+06\n",
            "82     82   1.900000e+07      1.517894e+07  3.821058e+06\n",
            "190   190   1.727500e+07      1.447072e+07  2.804276e+06\n",
            "85     85   8.000000e+06      5.818533e+06  2.181467e+06\n",
            "183   183   1.111019e+07      9.807867e+06  1.302327e+06\n",
            "24     24   8.000000e+06      7.363856e+06  6.361439e+05\n",
            "65     65   1.302356e+06      1.183299e+06  1.190570e+05\n",
            "84     84   5.330000e+06      5.300977e+06  2.902341e+04\n",
            "53     53   9.320750e+06      9.768646e+06 -4.478965e+05\n",
            "72     72   1.820148e+06      2.289535e+06 -4.693875e+05\n",
            "44     44   8.673915e+05      1.467473e+06 -6.000815e+05\n",
            "126   126   2.000000e+06      2.786018e+06 -7.860179e+05\n",
            "166   166   2.963205e+06      3.869326e+06 -9.061210e+05\n",
            "63     63   5.000000e+06      6.127210e+06 -1.127210e+06\n",
            "120   120   1.503704e+06      2.869719e+06 -1.366014e+06\n",
            "66     66   4.140721e+06      5.553049e+06 -1.412328e+06\n",
            "14     14   5.708251e+06      7.261151e+06 -1.552900e+06\n",
            "80     80   5.933334e+06      7.602224e+06 -1.668890e+06\n",
            "106   106   1.473048e+06      3.144602e+06 -1.671554e+06\n",
            "49     49   5.718000e+06      7.453972e+06 -1.735972e+06\n",
            "40     40   3.533333e+06      5.485148e+06 -1.951815e+06\n",
            "98     98   1.918572e+06      3.902602e+06 -1.984030e+06\n",
            "50     50   2.101801e+07      2.326505e+07 -2.247047e+06\n",
            "43     43   2.013214e+07      2.286391e+07 -2.731768e+06\n",
            "81     81   1.747321e+07      2.027433e+07 -2.801119e+06\n",
            "134   134   9.814860e+05      3.801956e+06 -2.820470e+06\n",
            "36     36   1.628404e+07      1.963384e+07 -3.349799e+06\n",
            "178   178   4.500000e+06      8.058291e+06 -3.558291e+06\n",
            "92     92   1.100000e+07      1.508827e+07 -4.088272e+06\n",
            "16     16   1.682025e+06      7.252346e+06 -5.570321e+06\n",
            "127   127   8.000000e+06      1.394230e+07 -5.942303e+06\n",
            "9       9   8.000000e+06      1.515949e+07 -7.159493e+06\n",
            "143   143   7.369732e+06      1.594281e+07 -8.573077e+06\n",
            "97     97   2.177483e+06      1.390420e+07 -1.172671e+07\n"
          ]
        }
      ]
    },
    {
      "cell_type": "code",
      "source": [
        "##Let's visualize the new regression line against AVG and Predicted Salaries\n",
        "plt.scatter(w_test, w_pred)\n",
        "plt.xlabel(\"AVG_SALARY\")\n",
        "plt.ylabel(\"Predicted Salary\")\n",
        "plt.title(\"Actual vs Predicted Player Salaries\")\n",
        "plt.plot(w_test, w_test, color=\"red\")\n",
        "plt.show()"
      ],
      "metadata": {
        "colab": {
          "base_uri": "https://localhost:8080/",
          "height": 296
        },
        "id": "9yVMpyDAmT9Z",
        "outputId": "1118ec0f-10b4-436e-b082-2254cf7297ea"
      },
      "execution_count": null,
      "outputs": [
        {
          "output_type": "display_data",
          "data": {
            "text/plain": [
              "<Figure size 432x288 with 1 Axes>"
            ],
            "image/png": "[encoded data removed]"
          },
          "metadata": {
            "needs_background": "light"
          }
        }
      ]
    },
    {
      "cell_type": "code",
      "source": [
        "##According to the 2nd model, let's see which players signed the \"best\" contracts\n",
        "row_194 = df.loc[194]\n",
        "row_194[\"NAME\"]"
      ],
      "metadata": {
        "colab": {
          "base_uri": "https://localhost:8080/",
          "height": 35
        },
        "id": "DVEH00iennA-",
        "outputId": "5ad7568e-82f7-4ae0-9e90-22a1343a520f"
      },
      "execution_count": null,
      "outputs": [
        {
          "output_type": "execute_result",
          "data": {
            "text/plain": [
              "'Brook Lopez'"
            ],
            "application/vnd.google.colaboratory.intrinsic+json": {
              "type": "string"
            }
          },
          "metadata": {},
          "execution_count": 85
        }
      ]
    },
    {
      "cell_type": "code",
      "source": [
        "row_139 = df.loc[139]\n",
        "row_139[\"NAME\"]"
      ],
      "metadata": {
        "colab": {
          "base_uri": "https://localhost:8080/",
          "height": 35
        },
        "id": "9-LLfyK_oeRL",
        "outputId": "d4e38017-c764-4405-8769-2f1e0d0df9ac"
      },
      "execution_count": null,
      "outputs": [
        {
          "output_type": "execute_result",
          "data": {
            "text/plain": [
              "'Eric Gordon'"
            ],
            "application/vnd.google.colaboratory.intrinsic+json": {
              "type": "string"
            }
          },
          "metadata": {},
          "execution_count": 86
        }
      ]
    },
    {
      "cell_type": "code",
      "source": [
        "row_51 = df.loc[51]\n",
        "row_51[\"NAME\"]"
      ],
      "metadata": {
        "colab": {
          "base_uri": "https://localhost:8080/",
          "height": 35
        },
        "id": "YIqo4WnGok3L",
        "outputId": "f1baf52e-3a55-4a45-8db8-f39219dc3726"
      },
      "execution_count": null,
      "outputs": [
        {
          "output_type": "execute_result",
          "data": {
            "text/plain": [
              "'Al Horford'"
            ],
            "application/vnd.google.colaboratory.intrinsic+json": {
              "type": "string"
            }
          },
          "metadata": {},
          "execution_count": 87
        }
      ]
    },
    {
      "cell_type": "markdown",
      "source": [
        "Brooke Lopez, Eric Gordon and Al Horford all signed contracts equaiting to a much greater evaluation than the predicted model. As predicted, the 2nd model R**2 did drop when predictor variables were reduced, but by a mere 3% points. The random forest regression showed a good determination of the more \"influential\" stats when predicting player salary. Going forward, it would be ideal to run a few models to determine which factors have the heaviest influence on win percentage. Then, taking these factors into consideration to determine a player's value and salary. Points, as expected, had the greatest prediction influence on salary."
      ],
      "metadata": {
        "id": "M3BhPxEkpJIl"
      }
    }
  ]
}